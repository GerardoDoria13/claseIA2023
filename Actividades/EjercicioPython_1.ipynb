{
  "nbformat": 4,
  "nbformat_minor": 0,
  "metadata": {
    "colab": {
      "provenance": []
    },
    "kernelspec": {
      "name": "python3",
      "display_name": "Python 3"
    },
    "language_info": {
      "name": "python"
    }
  },
  "cells": [
    {
      "cell_type": "markdown",
      "source": [
        "# **A1: Ejercicios en Python-Gerardo Doria-2077968-N4-N6**\n",
        "\n",
        "\n"
      ],
      "metadata": {
        "id": "cGQBdI5Oh1dU"
      }
    },
    {
      "cell_type": "markdown",
      "source": [
        "1.Desarrolla un algoritmo que solicite al usuario dos números y muestre la suma de ambos."
      ],
      "metadata": {
        "id": "ahn8vZRxitqx"
      }
    },
    {
      "cell_type": "code",
      "source": [
        "# Solicitar al usuario dos números\n",
        "numero1 = float(input(\"Ingrese el primer número: \"))\n",
        "numero2 = float(input(\"Ingrese el segundo número: \"))\n",
        "\n",
        "# Calcular la suma de los dos números\n",
        "suma = numero1 + numero2\n",
        "\n",
        "# Mostrar el resultado\n",
        "print(\"La suma de\", numero1, \"y\", numero2, \"es:\", suma)\n"
      ],
      "metadata": {
        "colab": {
          "base_uri": "https://localhost:8080/"
        },
        "id": "2nUUuL5ah2il",
        "outputId": "1dcfc6b2-24bf-47e8-e09d-5a0de2a2f149"
      },
      "execution_count": 1,
      "outputs": [
        {
          "output_type": "stream",
          "name": "stdout",
          "text": [
            "Ingrese el primer número: 10\n",
            "Ingrese el segundo número: 20\n",
            "La suma de 10.0 y 20.0 es: 30.0\n"
          ]
        }
      ]
    },
    {
      "cell_type": "markdown",
      "source": [
        "2.Desarrolla un algoritmo que calcule el factorial de un número ingresado por el usuario."
      ],
      "metadata": {
        "id": "Q0Y_1T20iw1k"
      }
    },
    {
      "cell_type": "code",
      "source": [
        "# Solicitar al usuario ingresar un número\n",
        "numero = int(input(\"Ingrese un número: \"))\n",
        "\n",
        "# Verificar si el número es negativo, si es cero o es mayor que cero\n",
        "if numero < 0:\n",
        "    print(\"El factorial no está definido para números negativos.\")\n",
        "elif numero == 0:\n",
        "    print(\"El factorial de 0 es 1.\")\n",
        "else:\n",
        "    factorial = 1\n",
        "    for i in range(1, numero + 1):\n",
        "        factorial *= i\n",
        "    print(\"El factorial de\", numero, \"es:\", factorial)\n"
      ],
      "metadata": {
        "colab": {
          "base_uri": "https://localhost:8080/"
        },
        "id": "LpVoM7fWiz-5",
        "outputId": "3e8d6ba0-4a07-4f43-ea58-ce7ce65bdedf"
      },
      "execution_count": 3,
      "outputs": [
        {
          "output_type": "stream",
          "name": "stdout",
          "text": [
            "Ingrese un número: 3\n",
            "El factorial de 3 es: 6\n"
          ]
        }
      ]
    },
    {
      "cell_type": "markdown",
      "source": [
        "3.Desarrolla un algoritmo que tome una lista de números y un número objetivo, y muestre la posición (índice) en la que se encuentra el número objetivo en la lista."
      ],
      "metadata": {
        "id": "6AD_FBKxjCU5"
      }
    },
    {
      "cell_type": "code",
      "source": [
        "# Función para buscar la posición del número objetivo en la lista\n",
        "def buscar_posicion(lista, objetivo):\n",
        "    for i in range(len(lista)):\n",
        "        if lista[i] == objetivo:\n",
        "            return i + 1\n",
        "    return -1\n",
        "\n",
        "# Obtener la lista de números del usuario\n",
        "numeros = input(\"Ingrese una lista de números separados por espacios: \").split()\n",
        "numeros = [int(num) for num in numeros]\n",
        "\n",
        "# Obtener el número objetivo del usuario\n",
        "objetivo = int(input(\"Ingrese el número objetivo: \"))\n",
        "\n",
        "# Buscar la posición del número objetivo en la lista\n",
        "posicion = buscar_posicion(numeros, objetivo)\n",
        "\n",
        "# Mostrar el resultado\n",
        "if posicion != -1:\n",
        "    print(\"El número objetivo\", objetivo, \"se encuentra en la posición\", posicion)\n",
        "else:\n",
        "    print(\"El número objetivo\", objetivo, \"no se encuentra en la lista.\")\n"
      ],
      "metadata": {
        "colab": {
          "base_uri": "https://localhost:8080/"
        },
        "id": "bwy-_ZLDjE7S",
        "outputId": "4842ada6-b1b5-45e3-efc9-8dc3fdae5849"
      },
      "execution_count": 8,
      "outputs": [
        {
          "output_type": "stream",
          "name": "stdout",
          "text": [
            "Ingrese una lista de números separados por espacios: 1 2 3 4 5 6\n",
            "Ingrese el número objetivo: 4\n",
            "El número objetivo 4 se encuentra en la posición 4\n"
          ]
        }
      ]
    },
    {
      "cell_type": "markdown",
      "source": [
        "4.Desarrolla un algoritmo que tome una cadena de texto y determine si es un palíndromo (se lee igual de adelante hacia atrás y viceversa).\n",
        "\n"
      ],
      "metadata": {
        "id": "Hy2rkGb2ju_f"
      }
    },
    {
      "cell_type": "code",
      "source": [
        "def es_palindromo(cadena):\n",
        "    # Eliminar los espacios en blanco y convertir a minúsculas\n",
        "    cadena = cadena.replace(\" \", \"\").lower()\n",
        "\n",
        "    # Verificar si la cadena es un palíndromo\n",
        "    if cadena == cadena[::-1]:\n",
        "        return True\n",
        "    else:\n",
        "        return False\n",
        "\n",
        "# Obtener la cadena de texto del usuario\n",
        "texto = input(\"Ingrese una cadena de texto: \")\n",
        "\n",
        "# Verificar si es un palíndromo\n",
        "if es_palindromo(texto):\n",
        "    print(\"La cadena es un palíndromo.\")\n",
        "else:\n",
        "    print(\"La cadena no es un palíndromo.\")\n"
      ],
      "metadata": {
        "colab": {
          "base_uri": "https://localhost:8080/"
        },
        "id": "xNc1SCc5jxA8",
        "outputId": "4fae5d23-f8fa-47bf-9928-4f0b44fdbc7e"
      },
      "execution_count": 7,
      "outputs": [
        {
          "output_type": "stream",
          "name": "stdout",
          "text": [
            "Ingrese una cadena de texto: Isaac no ronca asi\n",
            "La cadena es un palíndromo.\n"
          ]
        }
      ]
    }
  ]
}